{
 "cells": [
  {
   "cell_type": "markdown",
   "source": [
    "Image as Grids of pixels\n",
    "\n",
    "Import resources"
   ],
   "metadata": {
    "collapsed": false
   }
  },
  {
   "cell_type": "code",
   "execution_count": 10,
   "outputs": [
    {
     "name": "stdout",
     "text": [
      "All modules imported\n"
     ],
     "output_type": "stream"
    }
   ],
   "source": [
    "import numpy as np\n",
    "import matplotlib.image as mpimg # for reading in images\n",
    "import matplotlib.pyplot as plt\n",
    "import cv2 # computer vision library \n",
    "\n",
    "%matplotlib qt \n",
    "# Makes the image POP up in an interactive way \n",
    "# it also display the x,y position in the image, if we hover around the image\n",
    "\n",
    "print('All modules imported')\n"
   ],
   "metadata": {
    "collapsed": false,
    "pycharm": {
     "name": "#%%\n",
     "is_executing": false
    }
   }
  },
  {
   "cell_type": "markdown",
   "source": [
    "Read in and display the image"
   ],
   "metadata": {
    "collapsed": false
   }
  },
  {
   "cell_type": "code",
   "execution_count": 11,
   "outputs": [
    {
     "name": "stdout",
     "text": [
      "Image dimensions:  (281, 500, 3)\n"
     ],
     "output_type": "stream"
    }
   ],
   "source": [
    "# read in the image\n",
    "image = mpimg.imread('car.jpeg')\n",
    "# Print out the image dimensions\n",
    "print('Image dimensions: ', image.shape)"
   ],
   "metadata": {
    "collapsed": false,
    "pycharm": {
     "name": "#%%\n",
     "is_executing": false
    }
   }
  },
  {
   "cell_type": "code",
   "execution_count": 20,
   "outputs": [
    {
     "data": {
      "text/plain": "<matplotlib.image.AxesImage at 0x1ba11f6e828>"
     },
     "metadata": {},
     "output_type": "execute_result",
     "execution_count": 20
    }
   ],
   "source": [
    "# convert the image to gray scale using CV\n",
    "gray = cv2.cvtColor(image,cv2.COLOR_RGB2GRAY)\n",
    "# display the gray scale image\n",
    "plt.imshow(gray, cmap = 'gray')"
   ],
   "metadata": {
    "collapsed": false,
    "pycharm": {
     "name": "#%%\n",
     "is_executing": false
    }
   }
  },
  {
   "cell_type": "code",
   "execution_count": 13,
   "outputs": [
    {
     "name": "stdout",
     "text": [
      "Pixel value 77\n"
     ],
     "output_type": "stream"
    }
   ],
   "source": [
    "# print a specific gray scale pixel value\n",
    "x = 195\n",
    "y = 82\n",
    "pixel_value = gray[y, x]\n",
    "print('Pixel value', pixel_value)"
   ],
   "metadata": {
    "collapsed": false,
    "pycharm": {
     "name": "#%%\n",
     "is_executing": false
    }
   }
  },
  {
   "cell_type": "code",
   "execution_count": 15,
   "outputs": [
    {
     "name": "stdout",
     "text": [
      "min: 3151 max: 255\n"
     ],
     "output_type": "stream"
    }
   ],
   "source": [
    "# find the minimum and maximum gray scale value in the image\n",
    "min_val = np.amin(gray)# np.amin (flattens the array)\n",
    "max_val = np.amax(gray)\n",
    "\n",
    "print('min:', min_val, 'max:', max_val)\n"
   ],
   "metadata": {
    "collapsed": false,
    "pycharm": {
     "name": "#%%\n",
     "is_executing": false
    }
   }
  },
  {
   "cell_type": "code",
   "execution_count": 24,
   "outputs": [
    {
     "data": {
      "text/plain": "<matplotlib.image.AxesImage at 0x1ba120a2a90>"
     },
     "metadata": {},
     "output_type": "execute_result",
     "execution_count": 24
    }
   ],
   "source": [
    "# create a tiny image in gray scale about 5x5\n",
    "tiny_image = [[1,200,1,200,1],[200,1,200,1,200],[1,200,1,200,1],[200,1,200,1,200],[1,200,1,200,1]]\n",
    "# to show pixelgrid use matshow\n",
    "plt.matshow(tiny_image,cmap= 'gray') \n",
    "# personally i didn't find any difference between the results\n",
    "# for imshow and matshow, both look the same\n"
   ],
   "metadata": {
    "collapsed": false,
    "pycharm": {
     "name": "#%%\n",
     "is_executing": false
    }
   }
  },
  {
   "cell_type": "code",
   "execution_count": 28,
   "outputs": [
    {
     "data": {
      "text/plain": "<matplotlib.image.AxesImage at 0x1ba1530ae48>"
     },
     "metadata": {},
     "output_type": "execute_result",
     "execution_count": 28
    }
   ],
   "source": [
    "# try to draw a smiley face\n",
    "tiny_image2 = [[255,255, 0,255, 255],\n",
    "               [255, 0, 0,0, 255],\n",
    "               [0,255,255,255,0],\n",
    "               [0,255,255,255,0],\n",
    "               [0,255,255,255,0],\n",
    "               [255, 0, 0,0, 255],\n",
    "               [255,255, 0,255, 255]]\n",
    "plt.matshow(tiny_image2,cmap= 'gray')\n",
    "# Ah hard :P"
   ],
   "metadata": {
    "collapsed": false,
    "pycharm": {
     "name": "#%%\n",
     "is_executing": false
    }
   }
  }
 ],
 "metadata": {
  "language_info": {
   "codemirror_mode": {
    "name": "ipython",
    "version": 2
   },
   "file_extension": ".py",
   "mimetype": "text/x-python",
   "name": "python",
   "nbconvert_exporter": "python",
   "pygments_lexer": "ipython2",
   "version": "2.7.6"
  },
  "kernelspec": {
   "name": "python3",
   "language": "python",
   "display_name": "Python 3"
  },
  "pycharm": {
   "stem_cell": {
    "cell_type": "raw",
    "source": [],
    "metadata": {
     "collapsed": false
    }
   }
  }
 },
 "nbformat": 4,
 "nbformat_minor": 0
}